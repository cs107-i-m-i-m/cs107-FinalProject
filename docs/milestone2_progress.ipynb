{
 "cells": [
  {
   "cell_type": "markdown",
   "id": "50143703",
   "metadata": {},
   "source": [
    "# Milestone 2 Progress"
   ]
  },
  {
   "cell_type": "markdown",
   "id": "fb7e3269",
   "metadata": {},
   "source": [
    "### 1. What tasks has each group member been assigned to for Milestone 2? "
   ]
  },
  {
   "cell_type": "markdown",
   "id": "8d757115",
   "metadata": {},
   "source": [
    "We have assigned the following tasks to the respective members. The allocation indicates ownership of the tasks, and does not mean that non-allocated members would not contribute to the tasks. We expect owners of each tasks would come up with a draft with roughly 80% of each tasks completed for review and refinement by the remaining team members.  This ensures that each member would contribute to all parts of the project.  \n",
    "\n",
    "Tasks from grading breakdown and respective owner/s:\n",
    "1. Milestone2 document setup (Aloysius Lim) \n",
    "2. Introduction and background (Aloysius Lim) \n",
    "3. How to use (Aloysius Lim)\n",
    "4. Software Organization (Aloysius Lim)\n",
    "5. Implementation details (Shivam Raval, Gregoire Baverez) \n",
    "6. Future Features (Aloysius Lim)\n",
    "7. Correct implementation of minimum requirements (Lucy Yang)\n",
    "8. Adaquate testing for minimum project requirements (Lucy Yang)\n"
   ]
  },
  {
   "cell_type": "markdown",
   "id": "6d0e4c3d",
   "metadata": {},
   "source": [
    "### 2. What has each group member done since the submission of Milestone 1?"
   ]
  },
  {
   "cell_type": "markdown",
   "id": "c09011f3",
   "metadata": {},
   "source": [
    "Group has reviewed comments from Milestone 1 and has set directions for future Milestones. In particular, here are what has been done by each member. \n",
    "\n",
    "1. Lucy Yang \n",
    "    - Researched into testing\n",
    "    - Created test suites for all forward mode methods and ensured all methods are correct without causing errors\n",
    "\n",
    "2. Shivam Raval \n",
    "    - Created a skeleton AD package for testing \n",
    "\n",
    "3. Gregoire Baverez \n",
    "    - Reviewed Milestone 1 comments and added details\n",
    "    - Created a skeleton forward mode for testing \n",
    "\n",
    "4. Aloysius Lim \n",
    "    - Created Milestone 2 Progress \n",
    "    - Reviewed Milestone 1 added comments \n"
   ]
  }
 ],
 "metadata": {
  "kernelspec": {
   "display_name": "Python 3",
   "language": "python",
   "name": "python3"
  },
  "language_info": {
   "codemirror_mode": {
    "name": "ipython",
    "version": 3
   },
   "file_extension": ".py",
   "mimetype": "text/x-python",
   "name": "python",
   "nbconvert_exporter": "python",
   "pygments_lexer": "ipython3",
   "version": "3.8.8"
  }
 },
 "nbformat": 4,
 "nbformat_minor": 5
}
