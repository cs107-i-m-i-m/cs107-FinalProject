{
 "cells": [
  {
   "cell_type": "markdown",
   "metadata": {},
   "source": [
    "# 1. Introduction\n",
    "\n",
    "Describe the problem the software solves and why it's important to solve that problem.\n",
    "\n",
    "We will be buidling a library that performs Automatic Differentiation (AD). Any client can install and use the library for personal use and obtain ....................\n",
    "\n",
    "Perfroming fast differentiation and obtaining drivatives is absolutely necessary...........\n",
    "\n",
    "\n"
   ]
  },
  {
   "cell_type": "markdown",
   "metadata": {},
   "source": [
    "- "
   ]
  },
  {
   "cell_type": "markdown",
   "metadata": {},
   "source": [
    "# 2. Background \n",
    "\n",
    "Describe (briefly) the mathematical background and concepts as you see fit. You do not need to give a treatise on automatic differentiation or dual numbers. Just give the essential ideas (e.g. the chain rule, the graph structure of calculations, elementary functions, etc). Do not copy and paste any of the lecture notes. We will easily be able to tell if you did this as it does not show that you truly understand the problem at hand. \n",
    "\n",
    "### 1. Intro to AD\n",
    "\n",
    "### 2. Chain Rule\n",
    "\n",
    "### 3. Elementary functions and dual numbers\n",
    "\n",
    "### 4. Forward Pass\n",
    "\n",
    "### 5. Reverse Pass\n",
    "\n",
    "### 6. |Bringing it all together - Automatic Differentiation recipe\n",
    "\n"
   ]
  },
  {
   "cell_type": "markdown",
   "metadata": {},
   "source": [
    "- "
   ]
  },
  {
   "cell_type": "markdown",
   "metadata": {},
   "source": [
    "# 3. How to Use\n",
    "\n",
    "How do you envision that a user will interact with your package? What should they import? How can they instantiate AD objects?\n",
    "\n",
    "Note: This section should be a mix of pseudo code and text. It should not include any actual operations yet. Remember, you have not yet written any code at this point. \n",
    "\n",
    "### Installing and importing the package\n",
    "\n",
    "A user can install the package using.....\n",
    "\n",
    "The package can be imported using.....\n",
    "\n",
    "### Using the package\n",
    "\n",
    "An instance of AD object can be created using...."
   ]
  },
  {
   "cell_type": "markdown",
   "metadata": {},
   "source": [
    "Some pseudocode"
   ]
  },
  {
   "cell_type": "code",
   "execution_count": 1,
   "metadata": {},
   "outputs": [],
   "source": [
    "# Codes \n"
   ]
  },
  {
   "cell_type": "markdown",
   "metadata": {},
   "source": [
    "# 4. Software Organization \n",
    "\n",
    "Discuss how you plan on organizing your software package.\n",
    "\n",
    "What will the directory structure look like?\n",
    "What modules do you plan on including? What is their basic functionality?\n",
    "Where will your test suite live? Will you use TravisCI? CodeCov?\n",
    "How will you distribute your package (e.g. PyPI)?\n",
    "How will you package your software? Will you use a framework? If so, which one and why? If not, why not?\n",
    "Other considerations?\n",
    "\n",
    "### 1. Directory Structure\n",
    "\n",
    "The package directory would look like follows:\n",
    "\n",
    "### 2. The basic modules\n",
    "\n",
    "The package would include the following modules:\n",
    "\n",
    "1. \n",
    "\n",
    "2.\n",
    "\n",
    "3.\n",
    "\n",
    "### 3. Test Suite\n",
    "\n",
    "\n",
    "### 4. Package distribution\n",
    "\n",
    "### 5. Framework considerations\n"
   ]
  },
  {
   "cell_type": "code",
   "execution_count": null,
   "metadata": {},
   "outputs": [],
   "source": []
  },
  {
   "cell_type": "markdown",
   "metadata": {},
   "source": [
    "# 5. Implementation\n",
    "\n",
    "Discuss how you plan on implementing the forward mode of automatic differentiation.\n",
    "\n",
    "What are the core data structures?\n",
    "What classes will you implement?\n",
    "What method and name attributes will your classes have?\n",
    "What external dependencies will you rely on?\n",
    "How will you deal with elementary functions like sin, sqrt, log, and exp (and all the others)?\n",
    "Be sure to consider a variety of use cases. For example, don't limit your design to scalar functions of scalar values. Make sure you can handle the situations of vector functions of vectors and scalar functions of vectors. Don't forget that people will want to use your library in algorithms like Newton's method (among others).\n"
   ]
  },
  {
   "cell_type": "markdown",
   "metadata": {},
   "source": [
    "### 1. Data Structures\n",
    "\n",
    "### 2. Classes\n",
    "\n",
    "Include method and name attributes\n",
    "\n",
    "### 3. External dependencies\n",
    "Python packages to be used: \n",
    "\n",
    "### 4. Other considerations "
   ]
  },
  {
   "cell_type": "markdown",
   "metadata": {},
   "source": []
  },
  {
   "cell_type": "markdown",
   "metadata": {},
   "source": [
    "- "
   ]
  },
  {
   "cell_type": "markdown",
   "metadata": {},
   "source": [
    "# 6. Licensing \n",
    "\n",
    "Licensing is an essential consideration when you create new software. You should choose a suitable license for your project. A comprehensive list of licenses can be found here. The license you choose depends on factors such as what other software or libraries do you use in your code (copyleft, copyright), will you have to deal with patents, how can others advertise software that makes use of your code (or parts thereof)? You may consult the following reading to aid you in choosing a license:\n",
    "\n",
    "Helper to choose a license\n",
    "Licenses\n",
    "License recommendations\n",
    "License compatibility\n",
    "Extensive list of open source licenses\n",
    "Briefly motivate your license choice in the milesone1 document."
   ]
  },
  {
   "cell_type": "markdown",
   "metadata": {},
   "source": []
  },
  {
   "cell_type": "markdown",
   "metadata": {},
   "source": [
    "- "
   ]
  }
 ],
 "metadata": {
  "kernelspec": {
   "display_name": "Python 3",
   "language": "python",
   "name": "python3"
  },
  "language_info": {
   "codemirror_mode": {
    "name": "ipython",
    "version": 3
   },
   "file_extension": ".py",
   "mimetype": "text/x-python",
   "name": "python",
   "nbconvert_exporter": "python",
   "pygments_lexer": "ipython3",
   "version": "3.8.5"
  }
 },
 "nbformat": 4,
 "nbformat_minor": 5
}
