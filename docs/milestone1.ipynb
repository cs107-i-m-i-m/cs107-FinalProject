{
 "cells": [
  {
   "cell_type": "markdown",
   "metadata": {
    "id": "8FWeIGkD44FJ"
   },
   "source": [
    "# 1. Introduction\n",
    "\n",
    "Describe the problem the software solves and why it's important to solve that problem.\n",
    "\n",
    "We will be buidling a library that performs Automatic Differentiation (AD). Any client can install and use the library for personal or professional use and obtain an estimate of the value of the derivative (or gradient / Jacobian in higher dimension) of the function provided at the data point given as argument.\n",
    "\n",
    "Perfroming fast differentiation and obtaining drivatives is absolutely necessary as it is a skill needed for a lot of real life applications. Indeed, most of systems modeling use differential equations to describe a behaviour and these equations require to take derivatives of sometimes complex function. Also, taking the gradient of a function at a given point and cancel it is the most effective way (at least analytically) to find the extrema of a function. Computing the values of extrema is a key feature to optimize a function and the processes it represents.\n",
    "\n"
   ]
  },
  {
   "cell_type": "markdown",
   "metadata": {
    "id": "Woe4g0z444Fm"
   },
   "source": [
    "- "
   ]
  },
  {
   "cell_type": "markdown",
   "metadata": {
    "id": "VWzl082g44Fu"
   },
   "source": [
    "# 2. Background \n",
    "\n",
    "Describe (briefly) the mathematical background and concepts as you see fit. You do not need to give a treatise on automatic differentiation or dual numbers. Just give the essential ideas (e.g. the chain rule, the graph structure of calculations, elementary functions, etc). Do not copy and paste any of the lecture notes. We will easily be able to tell if you did this as it does not show that you truly understand the problem at hand. \n",
    "\n",
    "### 1. Intro to AD\n",
    "\n",
    "AD is a way to obtain the value of the derivative of a function $f$ at a point $X$. The objective is to obtain a method providing more precise values than the naive estimators using Taylor expansion. Such estimators require fine tuning of parameters in order to give an approximation which is close enough to the truth value but which does not fail because of the floating point approximation.\n",
    "\n",
    "### 2. Chain Rule\n",
    "\n",
    "The Chain Rule is the key element of AD. Indeed we can decompose recursively a function $f$ into elementary components. For example, if we consider the function $f(x, y) = cos(x+y) \\times sin(x-y)$, we can write it $f(x,y) = f\\left(prod(cos(sum(x,y)), sin(difference(x, y))))\\right)$. Although unclear for a human eye, such a function is easier to derive by a machine using the chain rule:\n",
    "\n",
    "$\\frac{\\partial f}{\\partial x} = \\frac{\\partial f}{\\partial u}\\frac{\\partial u}{\\partial x} + \\frac{\\partial f}{\\partial v}\\frac{\\partial v}{\\partial x}$\n",
    "\n",
    "In other words, you can compute the derivative of a function with respect to a variable by computing recursively the derivatives of each of the components and the derivative of the main function with respect to its components.\n",
    "\n",
    "#### Bringing it all together - Automatic Differentiation recipe\n",
    "\n"
   ]
  },
  {
   "cell_type": "markdown",
   "metadata": {
    "id": "aSlx3cSq44F2"
   },
   "source": [
    "- "
   ]
  },
  {
   "cell_type": "markdown",
   "metadata": {
    "id": "DyYntbxO44F6"
   },
   "source": [
    "# 3. How to Use GrADim\n",
    "\n",
    "How do you envision that a user will interact with your package? What should they import? How can they instantiate AD objects?\n",
    "\n",
    "Note: This section should be a mix of pseudo code and text. It should not include any actual operations yet. Remember, you have not yet written any code at this point. \n",
    "\n",
    "### Installing and importing the package\n",
    "\n",
    "A user can install the package using:"
   ]
  },
  {
   "cell_type": "code",
   "execution_count": null,
   "metadata": {},
   "outputs": [],
   "source": [
    ">>> pip install GrADim"
   ]
  },
  {
   "cell_type": "markdown",
   "metadata": {},
   "source": [
    "The package can be imported using the following command:"
   ]
  },
  {
   "cell_type": "code",
   "execution_count": null,
   "metadata": {},
   "outputs": [],
   "source": [
    ">>> import GrADim as ad"
   ]
  },
  {
   "cell_type": "markdown",
   "metadata": {},
   "source": [
    "### Using the package\n",
    "\n",
    "An instance of AD object can be created and used to find the derivative for the required point:\n"
   ]
  },
  {
   "cell_type": "code",
   "execution_count": null,
   "metadata": {},
   "outputs": [],
   "source": [
    ">>> import GrADim as ad\n",
    ">>> import numpy as np\n",
    "\n",
    ">>> def fun(x,y):\n",
    "    return np.cos(x+y)*np.cos(x-y)\n",
    "\n",
    ">>> autodiff = ad.derivative(fun)\n",
    ">>> autodiff.fwd_pass((1,1))\n",
    ">>> autodiff.rev_pass()"
   ]
  },
  {
   "cell_type": "markdown",
   "metadata": {
    "id": "C89QEv6-44GN"
   },
   "source": [
    "# 4. Software Organization \n",
    "\n",
    "Discuss how you plan on organizing your software package.\n",
    "\n",
    "What will the directory structure look like?\n",
    "What modules do you plan on including? What is their basic functionality?\n",
    "Where will your test suite live? Will you use TravisCI? CodeCov?\n",
    "How will you distribute your package (e.g. PyPI)?\n",
    "How will you package your software? Will you use a framework? If so, which one and why? If not, why not?\n",
    "Other considerations?\n",
    "\n",
    "### 1. Directory Structure\n",
    "\n",
    "The package directory would look like follows:\n",
    "\n",
    "### 2. The basic modules\n",
    "\n",
    "The package would include the following modules:\n",
    "\n",
    "1. \n",
    "\n",
    "2.\n",
    "\n",
    "3.\n",
    "\n",
    "### 3. Test Suite\n",
    "\n",
    "\n",
    "### 4. Package distribution\n",
    "\n",
    "### 5. Framework considerations\n"
   ]
  },
  {
   "cell_type": "code",
   "execution_count": null,
   "metadata": {
    "id": "z7zjTjdh44GS"
   },
   "outputs": [],
   "source": []
  },
  {
   "cell_type": "markdown",
   "metadata": {
    "id": "NoBDMeMt44GW"
   },
   "source": [
    "# 5. Implementation\n",
    "\n",
    "Discuss how you plan on implementing the forward mode of automatic differentiation.\n",
    "\n",
    "What are the core data structures?\n",
    "What classes will you implement?\n",
    "What method and name attributes will your classes have?\n",
    "What external dependencies will you rely on?\n",
    "How will you deal with elementary functions like sin, sqrt, log, and exp (and all the others)?\n",
    "Be sure to consider a variety of use cases. For example, don't limit your design to scalar functions of scalar values. Make sure you can handle the situations of vector functions of vectors and scalar functions of vectors. Don't forget that people will want to use your library in algorithms like Newton's method (among others).\n"
   ]
  },
  {
   "cell_type": "markdown",
   "metadata": {
    "id": "HiJJW5Y-44Ga"
   },
   "source": [
    "### 1. Data Structures\n",
    "\n",
    "### 2. Classes\n",
    "\n",
    "Include method and name attributes\n",
    "\n",
    "### 3. External dependencies\n",
    "Python packages to be used: \n",
    "\n",
    "### 4. Other considerations "
   ]
  },
  {
   "cell_type": "markdown",
   "metadata": {
    "id": "iNd5K-Ko44Gc"
   },
   "source": []
  },
  {
   "cell_type": "markdown",
   "metadata": {
    "id": "Og8Q-q7s44Gd"
   },
   "source": [
    "- "
   ]
  },
  {
   "cell_type": "markdown",
   "metadata": {
    "id": "tQeSkW2U44Gg"
   },
   "source": [
    "# 6. Licensing \n",
    "\n",
    "Licensing is an essential consideration when you create new software. You should choose a suitable license for your project. A comprehensive list of licenses can be found here. The license you choose depends on factors such as what other software or libraries do you use in your code (copyleft, copyright), will you have to deal with patents, how can others advertise software that makes use of your code (or parts thereof)? You may consult the following reading to aid you in choosing a license:\n",
    "\n",
    "Helper to choose a license\n",
    "Licenses\n",
    "License recommendations\n",
    "License compatibility\n",
    "Extensive list of open source licenses\n",
    "Briefly motivate your license choice in the milesone1 document."
   ]
  },
  {
   "cell_type": "markdown",
   "metadata": {
    "id": "dqjMlmgD44Gi"
   },
   "source": []
  },
  {
   "cell_type": "markdown",
   "metadata": {
    "id": "eOz2tQG_44Gj"
   },
   "source": [
    "- "
   ]
  }
 ],
 "metadata": {
  "colab": {
   "name": "milestone1.ipynb",
   "provenance": []
  },
  "kernelspec": {
   "display_name": "Python 3",
   "language": "python",
   "name": "python3"
  },
  "language_info": {
   "codemirror_mode": {
    "name": "ipython",
    "version": 3
   },
   "file_extension": ".py",
   "mimetype": "text/x-python",
   "name": "python",
   "nbconvert_exporter": "python",
   "pygments_lexer": "ipython3",
   "version": "3.8.5"
  }
 },
 "nbformat": 4,
 "nbformat_minor": 5
}
