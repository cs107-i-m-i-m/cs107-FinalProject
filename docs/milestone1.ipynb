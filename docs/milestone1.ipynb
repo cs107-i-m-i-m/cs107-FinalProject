{
 "cells": [
  {
   "cell_type": "markdown",
   "id": "dba5fa5e",
   "metadata": {
    "id": "8FWeIGkD44FJ"
   },
   "source": [
    "# 1. Introduction\n",
    "\n",
    "Describe the problem the software solves and why it's important to solve that problem.\n",
    "\n",
    "We will be buidling a library that performs Automatic Differentiation (AD). Any client can install and use the library for personal or professional use and obtain an estimate of the value of the derivative (or gradient / Jacobian in higher dimension) of the function provided at the data point given as argument.\n",
    "\n",
    "Perfroming fast differentiation and obtaining drivatives is absolutely necessary as it is a skill needed for a lot of real life applications. Indeed, most of systems modeling use differential equations to describe a behaviour and these equations require to take derivatives of sometimes complex function. Also, taking the gradient of a function at a given point and cancel it is the most effective way (at least analytically) to find the extrema of a function. Computing the values of extrema is a key feature to optimize a function and the processes it represents.\n",
    "\n"
   ]
  },
  {
   "cell_type": "markdown",
   "id": "9b15fe80",
   "metadata": {
    "id": "Woe4g0z444Fm"
   },
   "source": [
    "- "
   ]
  },
  {
   "cell_type": "markdown",
   "id": "29375d2f",
   "metadata": {
    "id": "VWzl082g44Fu"
   },
   "source": [
    "# 2. Background \n",
    "\n",
    "Describe (briefly) the mathematical background and concepts as you see fit. You do not need to give a treatise on automatic differentiation or dual numbers. Just give the essential ideas (e.g. the chain rule, the graph structure of calculations, elementary functions, etc). Do not copy and paste any of the lecture notes. We will easily be able to tell if you did this as it does not show that you truly understand the problem at hand. \n",
    "\n",
    "### 1. Intro to AD\n",
    "\n",
    "AD is a way to obtain the value of the derivative of a function $f$ at a point $X$. The objective is to obtain a method providing more precise values than the naive estimators using Taylor expansion. Such estimators require fine tuning of parameters in order to give an approximation which is close enough to the truth value but which does not fail because of the floating point approximation.\n",
    "\n",
    "### 2. Chain Rule\n",
    "\n",
    "The Chain Rule is the key element of AD. Indeed we can decompose recursively a function $f$ into elementary components. For example, if we consider the function $f(x, y) = cos(x+y) \\times sin(x-y)$, we can write it $f(x,y) = f\\left(prod(cos(sum(x,y)), sin(difference(x, y))))\\right)$. Although unclear for a human eye, such a function is easier to derive by a machine using the chain rule:\n",
    "\n",
    "$\\frac{\\partial f}{\\partial x} = \\frac{\\partial f}{\\partial u}\\frac{\\partial u}{\\partial x} + \\frac{\\partial f}{\\partial v}\\frac{\\partial v}{\\partial x}$\n",
    "\n",
    "In other words, you can compute the derivative of a function with respect to a variable by computing recursively the derivatives of each of the components and the derivative of the main function with respect to its components.\n",
    "\n",
    "#### Bringing it all together - Automatic Differentiation recipe\n",
    "\n"
   ]
  },
  {
   "cell_type": "markdown",
   "id": "b8686b26",
   "metadata": {
    "id": "aSlx3cSq44F2"
   },
   "source": [
    "- "
   ]
  },
  {
   "cell_type": "markdown",
   "id": "d213b0c7",
   "metadata": {
    "id": "DyYntbxO44F6"
   },
   "source": [
    "# 3. How to Use GrADim\n",
    "\n",
    "How do you envision that a user will interact with your package? What should they import? How can they instantiate AD objects?\n",
    "\n",
    "Note: This section should be a mix of pseudo code and text. It should not include any actual operations yet. Remember, you have not yet written any code at this point. \n",
    "\n",
    "### Installing and importing the package\n",
    "\n",
    "A user can install the package using:"
   ]
  },
  {
   "cell_type": "code",
   "execution_count": null,
   "id": "4a0b32b5",
   "metadata": {},
   "outputs": [],
   "source": [
    ">>> pip install GrADim"
   ]
  },
  {
   "cell_type": "markdown",
   "id": "3b07be2e",
   "metadata": {},
   "source": [
    "The package can be imported using the following command:"
   ]
  },
  {
   "cell_type": "code",
   "execution_count": null,
   "id": "ef4c33a5",
   "metadata": {},
   "outputs": [],
   "source": [
    ">>> import GrADim as ad"
   ]
  },
  {
   "cell_type": "markdown",
   "id": "40c5e5aa",
   "metadata": {},
   "source": [
    "### Using the package\n",
    "\n",
    "An instance of AD object can be created and used to find the derivative for the required point:\n"
   ]
  },
  {
   "cell_type": "code",
   "execution_count": null,
   "id": "ee45543b",
   "metadata": {},
   "outputs": [],
   "source": [
    ">>> import GrADim as ad\n",
    ">>> import numpy as np\n",
    "\n",
    ">>> def fun(x,y):\n",
    "    return np.cos(x+y)*np.cos(x-y)\n",
    "\n",
    ">>> autodiff = ad.derivative(fun)\n",
    ">>> autodiff.fwd_pass((1,1))\n",
    ">>> autodiff.rev_pass()"
   ]
  },
  {
   "cell_type": "markdown",
   "id": "d643f60a",
   "metadata": {
    "id": "C89QEv6-44GN"
   },
   "source": [
    "# 4. Software Organization \n"
   ]
  },
  {
   "cell_type": "markdown",
   "id": "d60da5e6",
   "metadata": {},
   "source": [
    "### 1. Directory Structure\n",
    "\n",
    "The package directory would look like the following tree.\n",
    "\n",
    "File README.md will contain instructions and provide examples using the package. License folder will contain relevant licensing information. File requirements.txt will contain details for package to be distributed. \n",
    "\n"
   ]
  },
  {
   "cell_type": "markdown",
   "id": "d6f6558f",
   "metadata": {},
   "source": [
    "master\n",
    "├── LICENSE\n",
    "├── README.md     \n",
    "├── docs\n",
    "│   ├── ...\n",
    "│   └── ...\n",
    "├── requirements.txt\n",
    "├── travis.yml\n",
    "├── GrADim\n",
    "│   ├── ...\n",
    "│   └── ...\n",
    "├── Tests\n",
    "    ├── ...\n",
    "    └── ..."
   ]
  },
  {
   "cell_type": "markdown",
   "id": "2091bfb0",
   "metadata": {},
   "source": [
    "### 2. The basic modules\n",
    "\n",
    "GrADim is the main module for the library where callable submodules used for automatic differentation will be stored. Test will contain testing submodules for GrADim. \n",
    "\n",
    "### 3. Test Suite\n",
    "\n",
    "We will use both TravisCI and CodeCov. Travis CI will be used to detect when a commit has been made and pushed onto Github, and then try to build the project and run tests each time it happens. Codecov will be used to provide an assessment of the code coverage. \n",
    "\n",
    "\n",
    "### 4. Package distribution\n",
    "\n",
    "PyPi will be used to distribute the package based on the format in the directory tree. \n",
    "\n",
    "\n",
    "### 5. Framework considerations\n",
    "\n",
    "Framework is not currently considered as current implementation is not as complicated. Should the implementation complexity evolves, we will then consider implementing a framework. "
   ]
  },
  {
   "cell_type": "markdown",
   "id": "1d701f6c",
   "metadata": {
    "id": "NoBDMeMt44GW"
   },
   "source": [
    "# 5. Implementation\n",
    "\n",
    "Discuss how you plan on implementing the forward mode of automatic differentiation.\n",
    "\n",
    "What are the core data structures?\n",
    "What classes will you implement?\n",
    "What method and name attributes will your classes have?\n",
    "What external dependencies will you rely on?\n",
    "How will you deal with elementary functions like sin, sqrt, log, and exp (and all the others)?\n",
    "Be sure to consider a variety of use cases. For example, don't limit your design to scalar functions of scalar values. Make sure you can handle the situations of vector functions of vectors and scalar functions of vectors. Don't forget that people will want to use your library in algorithms like Newton's method (among others).\n"
   ]
  },
  {
   "cell_type": "markdown",
   "id": "1c513699",
   "metadata": {
    "id": "HiJJW5Y-44Ga"
   },
   "source": [
    "### 1. Data Structures\n",
    "\n",
    "### 2. Classes\n",
    "\n",
    "Include method and name attributes\n",
    "\n",
    "### 3. External dependencies\n",
    "Python packages to be used: \n",
    "\n",
    "### 4. Other considerations "
   ]
  },
  {
   "cell_type": "markdown",
   "id": "9f5745a9",
   "metadata": {
    "id": "iNd5K-Ko44Gc"
   },
   "source": []
  },
  {
   "cell_type": "markdown",
   "id": "375e7d47",
   "metadata": {
    "id": "Og8Q-q7s44Gd"
   },
   "source": [
    "- "
   ]
  },
  {
   "cell_type": "markdown",
   "id": "46590f16",
   "metadata": {
    "id": "tQeSkW2U44Gg"
   },
   "source": [
    "# 6. Licensing \n",
    "\n",
    "Licensing is an essential consideration when you create new software. You should choose a suitable license for your project. A comprehensive list of licenses can be found here. The license you choose depends on factors such as what other software or libraries do you use in your code (copyleft, copyright), will you have to deal with patents, how can others advertise software that makes use of your code (or parts thereof)? You may consult the following reading to aid you in choosing a license:\n",
    "\n",
    "Helper to choose a license\n",
    "Licenses\n",
    "License recommendations\n",
    "License compatibility\n",
    "Extensive list of open source licenses\n",
    "Briefly motivate your license choice in the milesone1 document."
   ]
  },
  {
   "cell_type": "markdown",
   "id": "447a4727",
   "metadata": {
    "id": "dqjMlmgD44Gi"
   },
   "source": []
  },
  {
   "cell_type": "markdown",
   "id": "dad15235",
   "metadata": {
    "id": "eOz2tQG_44Gj"
   },
   "source": [
    "- "
   ]
  }
 ],
 "metadata": {
  "colab": {
   "name": "milestone1.ipynb",
   "provenance": []
  },
  "kernelspec": {
   "display_name": "Python 3",
   "language": "python",
   "name": "python3"
  },
  "language_info": {
   "codemirror_mode": {
    "name": "ipython",
    "version": 3
   },
   "file_extension": ".py",
   "mimetype": "text/x-python",
   "name": "python",
   "nbconvert_exporter": "python",
   "pygments_lexer": "ipython3",
   "version": "3.8.8"
  }
 },
 "nbformat": 4,
 "nbformat_minor": 5
}
