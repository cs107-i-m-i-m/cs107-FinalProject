{
 "cells": [
  {
   "cell_type": "markdown",
   "id": "0c45f44d",
   "metadata": {},
   "source": [
    "# 1. Introduction\n",
    "\n",
    "Describe the problem the software solves and why it's important to solve that problem.\n"
   ]
  },
  {
   "cell_type": "markdown",
   "id": "1e7e16d8",
   "metadata": {},
   "source": [
    "- "
   ]
  },
  {
   "cell_type": "markdown",
   "id": "85af012e",
   "metadata": {},
   "source": [
    "# 2. Background \n",
    "\n",
    "Describe (briefly) the mathematical background and concepts as you see fit. You do not need to give a treatise on automatic differentiation or dual numbers. Just give the essential ideas (e.g. the chain rule, the graph structure of calculations, elementary functions, etc). Do not copy and paste any of the lecture notes. We will easily be able to tell if you did this as it does not show that you truly understand the problem at hand. \n",
    "\n"
   ]
  },
  {
   "cell_type": "markdown",
   "id": "2448d3b3",
   "metadata": {},
   "source": [
    "- "
   ]
  },
  {
   "cell_type": "markdown",
   "id": "34daaa19",
   "metadata": {},
   "source": [
    "# 3. How to Use\n",
    "\n",
    "How do you envision that a user will interact with your package? What should they import? How can they instantiate AD objects?\n",
    "\n",
    "Note: This section should be a mix of pseudo code and text. It should not include any actual operations yet. Remember, you have not yet written any code at this point. "
   ]
  },
  {
   "cell_type": "markdown",
   "id": "c5dc4283",
   "metadata": {},
   "source": []
  },
  {
   "cell_type": "code",
   "execution_count": 1,
   "id": "65d9d45f",
   "metadata": {},
   "outputs": [],
   "source": [
    "# Codes \n"
   ]
  },
  {
   "cell_type": "markdown",
   "id": "f2a496bc",
   "metadata": {},
   "source": [
    "# 4. Software Organization \n",
    "\n",
    "Discuss how you plan on organizing your software package.\n",
    "\n",
    "What will the directory structure look like?\n",
    "What modules do you plan on including? What is their basic functionality?\n",
    "Where will your test suite live? Will you use TravisCI? CodeCov?\n",
    "How will you distribute your package (e.g. PyPI)?\n",
    "How will you package your software? Will you use a framework? If so, which one and why? If not, why not?\n",
    "Other considerations?\n"
   ]
  },
  {
   "cell_type": "markdown",
   "id": "b14f4bea",
   "metadata": {},
   "source": []
  },
  {
   "cell_type": "markdown",
   "id": "90128f4f",
   "metadata": {},
   "source": [
    "# 5. Implementation\n",
    "\n",
    "Discuss how you plan on implementing the forward mode of automatic differentiation.\n",
    "\n",
    "What are the core data structures?\n",
    "What classes will you implement?\n",
    "What method and name attributes will your classes have?\n",
    "What external dependencies will you rely on?\n",
    "How will you deal with elementary functions like sin, sqrt, log, and exp (and all the others)?\n",
    "Be sure to consider a variety of use cases. For example, don't limit your design to scalar functions of scalar values. Make sure you can handle the situations of vector functions of vectors and scalar functions of vectors. Don't forget that people will want to use your library in algorithms like Newton's method (among others).\n"
   ]
  },
  {
   "cell_type": "markdown",
   "id": "ea95d325",
   "metadata": {},
   "source": []
  },
  {
   "cell_type": "markdown",
   "id": "a09fb6cf",
   "metadata": {},
   "source": [
    "- "
   ]
  },
  {
   "cell_type": "markdown",
   "id": "0f0f2993",
   "metadata": {},
   "source": [
    "# 6. Licensing \n",
    "\n",
    "Licensing is an essential consideration when you create new software. You should choose a suitable license for your project. A comprehensive list of licenses can be found here. The license you choose depends on factors such as what other software or libraries do you use in your code (copyleft, copyright), will you have to deal with patents, how can others advertise software that makes use of your code (or parts thereof)? You may consult the following reading to aid you in choosing a license:\n",
    "\n",
    "Helper to choose a license\n",
    "Licenses\n",
    "License recommendations\n",
    "License compatibility\n",
    "Extensive list of open source licenses\n",
    "Briefly motivate your license choice in the milesone1 document."
   ]
  },
  {
   "cell_type": "markdown",
   "id": "8ca0628c",
   "metadata": {},
   "source": [
    "- "
   ]
  }
 ],
 "metadata": {
  "kernelspec": {
   "display_name": "Python 3",
   "language": "python",
   "name": "python3"
  },
  "language_info": {
   "codemirror_mode": {
    "name": "ipython",
    "version": 3
   },
   "file_extension": ".py",
   "mimetype": "text/x-python",
   "name": "python",
   "nbconvert_exporter": "python",
   "pygments_lexer": "ipython3",
   "version": "3.8.8"
  }
 },
 "nbformat": 4,
 "nbformat_minor": 5
}
